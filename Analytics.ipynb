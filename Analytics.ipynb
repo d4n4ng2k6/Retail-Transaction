{
 "cells": [
  {
   "cell_type": "code",
   "execution_count": 4,
   "id": "f1f267fb-b34d-4509-aa1d-e96875eebeac",
   "metadata": {},
   "outputs": [],
   "source": [
    "import numpy as np"
   ]
  },
  {
   "cell_type": "code",
   "execution_count": 5,
   "id": "e00c8d0f-5b02-4b39-8086-3455dbb7e159",
   "metadata": {},
   "outputs": [],
   "source": [
    "import pandas as pd"
   ]
  },
  {
   "cell_type": "code",
   "execution_count": 6,
   "id": "fe871f24-d83a-4fa1-b97e-bf6a9287dbfb",
   "metadata": {},
   "outputs": [],
   "source": [
    "import matplotlib as plt"
   ]
  },
  {
   "cell_type": "code",
   "execution_count": 8,
   "id": "9b7853b4-9edc-458b-8c9a-7c624dd6537a",
   "metadata": {},
   "outputs": [
    {
     "name": "stdout",
     "output_type": "stream",
     "text": [
      "<class 'pandas.core.frame.DataFrame'>\n",
      "RangeIndex: 30000 entries, 0 to 29999\n",
      "Data columns (total 13 columns):\n",
      " #   Column             Non-Null Count  Dtype  \n",
      "---  ------             --------------  -----  \n",
      " 0   Transaction_ID     30000 non-null  int64  \n",
      " 1   Date               30000 non-null  object \n",
      " 2   Customer_Name      30000 non-null  object \n",
      " 3   Product            30000 non-null  object \n",
      " 4   Total_Items        30000 non-null  int64  \n",
      " 5   Total_Cost         30000 non-null  float64\n",
      " 6   Payment_Method     30000 non-null  object \n",
      " 7   City               30000 non-null  object \n",
      " 8   Store_Type         30000 non-null  object \n",
      " 9   Discount_Applied   30000 non-null  bool   \n",
      " 10  Customer_Category  30000 non-null  object \n",
      " 11  Season             30000 non-null  object \n",
      " 12  Promotion          20009 non-null  object \n",
      "dtypes: bool(1), float64(1), int64(2), object(9)\n",
      "memory usage: 2.8+ MB\n"
     ]
    }
   ],
   "source": [
    "df = pd.read_csv(\"Retail_Transactions_Dataset.csv\")\n",
    "df.info()"
   ]
  },
  {
   "cell_type": "code",
   "execution_count": 9,
   "id": "bc836e81-a8bc-428f-8816-10ddb7c2fed6",
   "metadata": {},
   "outputs": [
    {
     "name": "stdout",
     "output_type": "stream",
     "text": [
      "   Transaction_ID                 Date     Customer_Name  \\\n",
      "0      1000000000  2020-12-21 19:42:52   Cheyenne Newman   \n",
      "1      1000000001  2020-07-06 07:45:16  Emily Fitzgerald   \n",
      "2      1000000002  2021-10-02 06:28:44      Michael Webb   \n",
      "3      1000000003  2022-01-10 05:39:02      Kimberly Lin   \n",
      "4      1000000004  2021-10-13 07:28:47   Cathy Hernandez   \n",
      "\n",
      "                                             Product  Total_Items  Total_Cost  \\\n",
      "0                                       ['Hair Gel']            6       12.77   \n",
      "1         ['Tuna', 'Bread', 'Tissues', 'Trash Bags']            5       13.88   \n",
      "2                         ['Jam', 'Soap', 'Ketchup']            7       47.02   \n",
      "3                                      ['BBQ Sauce']            9       83.86   \n",
      "4  ['Hand Sanitizer', 'Bread', 'Extension Cords',...            4       30.55   \n",
      "\n",
      "   Payment_Method      City         Store_Type  Discount_Applied  \\\n",
      "0      Debit Card  New York  Convenience Store              True   \n",
      "1      Debit Card   Houston        Supermarket             False   \n",
      "2      Debit Card     Miami  Convenience Store             False   \n",
      "3  Mobile Payment   Seattle     Warehouse Club              True   \n",
      "4      Debit Card   Houston     Warehouse Club             False   \n",
      "\n",
      "  Customer_Category  Season                   Promotion  \n",
      "0           Student  Winter                         NaN  \n",
      "1      Professional    Fall      BOGO (Buy One Get One)  \n",
      "2       Young Adult  Winter                         NaN  \n",
      "3    Senior Citizen  Summer  Discount on Selected Items  \n",
      "4    Senior Citizen  Spring                         NaN  \n"
     ]
    }
   ],
   "source": [
    "print(df.head())"
   ]
  },
  {
   "cell_type": "code",
   "execution_count": null,
   "id": "9074c5eb-7910-4153-912c-91992687e8a2",
   "metadata": {},
   "outputs": [],
   "source": []
  }
 ],
 "metadata": {
  "kernelspec": {
   "display_name": "Python 3 (ipykernel)",
   "language": "python",
   "name": "python3"
  },
  "language_info": {
   "codemirror_mode": {
    "name": "ipython",
    "version": 3
   },
   "file_extension": ".py",
   "mimetype": "text/x-python",
   "name": "python",
   "nbconvert_exporter": "python",
   "pygments_lexer": "ipython3",
   "version": "3.12.3"
  }
 },
 "nbformat": 4,
 "nbformat_minor": 5
}
